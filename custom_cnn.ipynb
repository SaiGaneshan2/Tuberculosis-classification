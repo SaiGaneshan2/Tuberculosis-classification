{
 "cells": [
  {
   "cell_type": "code",
   "execution_count": null,
   "metadata": {},
   "outputs": [
    {
     "name": "stdout",
     "output_type": "stream",
     "text": [
      "✅ Root directory exists: /home/sg/Music/TB DATASET/DATASET\n",
      "\n",
      "✅ Checking: /home/sg/Music/TB DATASET/DATASET/train\n",
      "✅ NORMAL: 4907 images found\n",
      "✅ TUBERCULOSIS: 5971 images found\n",
      "\n",
      "✅ Checking: /home/sg/Music/TB DATASET/DATASET/val\n",
      "✅ NORMAL: 548 images found\n",
      "✅ TUBERCULOSIS: 434 images found\n",
      "\n",
      "✅ Checking: /home/sg/Music/TB DATASET/DATASET/test\n",
      "✅ NORMAL: 548 images found\n",
      "✅ TUBERCULOSIS: 434 images found\n"
     ]
    }
   ],
   "source": [
    "import os\n",
    "\n",
    "dataset_root = \"/home/sg/Music/TB DATASET/DATASET\"\n",
    "\n",
    "splits = [\"train\", \"val\", \"test\"]\n",
    "categories = [\"NORMAL\", \"TUBERCULOSIS\"]\n",
    "\n",
    "if not os.path.exists(dataset_root):\n",
    "    print(f\"❌ Root directory not found: {dataset_root}\")\n",
    "else:\n",
    "    print(f\"✅ Root directory exists: {dataset_root}\")\n",
    "\n",
    "for split in splits:\n",
    "    split_path = os.path.join(dataset_root, split)\n",
    "    \n",
    "    if not os.path.exists(split_path):\n",
    "        print(f\"❌ Missing split folder: {split_path}\")\n",
    "        continue\n",
    "    \n",
    "    print(f\"\\n✅ Checking: {split_path}\")\n",
    "\n",
    "    for category in categories:\n",
    "        category_path = os.path.join(split_path, category)\n",
    "\n",
    "        if not os.path.exists(category_path):\n",
    "            print(f\"❌ Missing category folder: {category_path}\")\n",
    "        else:\n",
    "            num_files = len(os.listdir(category_path))\n",
    "            if num_files == 0:\n",
    "                print(f\"⚠️ No images found in: {category_path}\")\n",
    "            else:\n",
    "                print(f\"✅ {category}: {num_files} images found\")\n"
   ]
  },
  {
   "cell_type": "code",
   "execution_count": null,
   "metadata": {},
   "outputs": [
    {
     "name": "stdout",
     "output_type": "stream",
     "text": [
      "Train Dictionary Sample: {'TUBERCULOSIS': 5971, 'NORMAL': 4907}\n",
      "Validation Dictionary Sample: {'TUBERCULOSIS': 434, 'NORMAL': 548}\n",
      "Test Dictionary Sample: {'TUBERCULOSIS': 434, 'NORMAL': 548}\n",
      "Aug train Dictionary Sample: {'TUBERCULOSIS': 12925, 'NORMAL': 11803}\n"
     ]
    }
   ],
   "source": [
    "import pathlib\n",
    "\n",
    "dataset_path = pathlib.Path(\"/home/sg/Music/TB DATASET/DATASET\")\n",
    "\n",
    "def create_dataset_dict(split):\n",
    "    split_path = dataset_path / split  \n",
    "    dataset_dict = {}\n",
    "    \n",
    "    for class_dir in split_path.iterdir():  \n",
    "        if class_dir.is_dir(): \n",
    "            dataset_dict[class_dir.name] = list(class_dir.glob(\"*\"))\n",
    "    \n",
    "    return dataset_dict\n",
    "\n",
    "train_dic = create_dataset_dict(\"train\")\n",
    "val_dic = create_dataset_dict(\"val\")\n",
    "test_dic = create_dataset_dict(\"test\")\n",
    "aug_train_dic = create_dataset_dict(\"aug_train_dic\")\n",
    "\n",
    "print(\"Train Dictionary Sample:\", {k: len(v) for k, v in train_dic.items()})\n",
    "print(\"Validation Dictionary Sample:\", {k: len(v) for k, v in val_dic.items()})\n",
    "print(\"Test Dictionary Sample:\", {k: len(v) for k, v in test_dic.items()})\n",
    "print(\"Aug train Dictionary Sample:\", {k: len(v) for k, v in aug_train_dic.items()})\n",
    "\n"
   ]
  },
  {
   "cell_type": "code",
   "execution_count": 6,
   "metadata": {},
   "outputs": [],
   "source": [
    "import numpy as np\n",
    "import cv2\n",
    "from pathlib import Path\n",
    "\n",
    "preprocessed_dic = {}\n",
    "\n",
    "for label, image_paths in aug_train_dic.items():\n",
    "    preprocessed_images = []\n",
    "    \n",
    "    for image_path in image_paths:\n",
    "        img = cv2.imread(str(image_path))  \n",
    "        \n",
    "        img = cv2.cvtColor(img, cv2.COLOR_BGR2RGB)\n",
    "        \n",
    "        img = cv2.resize(img, (32, 32))\n",
    "        \n",
    "        img = img.astype(np.float32) / 255.0\n",
    "        \n",
    "        preprocessed_images.append(img)\n",
    "    \n",
    "    preprocessed_dic[label] = np.array(preprocessed_images)\n",
    "\n"
   ]
  },
  {
   "cell_type": "code",
   "execution_count": 13,
   "metadata": {},
   "outputs": [],
   "source": [
    "import numpy as np\n",
    "import cv2\n",
    "from pathlib import Path\n",
    "\n",
    "preprocessed_test_dic = {}\n",
    "\n",
    "for label, image_paths in test_dic.items():\n",
    "    preprocessed_timages = []  \n",
    "    \n",
    "    for image_path in image_paths:\n",
    "        img = cv2.imread(str(image_path))  \n",
    "        img = cv2.cvtColor(img, cv2.COLOR_BGR2RGB)\n",
    "        img = cv2.resize(img, (32, 32))\n",
    "        img = img.astype(np.float32) / 255.0\n",
    "\n",
    "        preprocessed_timages.append(img)  \n",
    "    \n",
    "    preprocessed_test_dic[label] = np.array(preprocessed_timages)\n"
   ]
  },
  {
   "cell_type": "code",
   "execution_count": 34,
   "metadata": {},
   "outputs": [
    {
     "data": {
      "text/html": [
       "<pre style=\"white-space:pre;overflow-x:auto;line-height:normal;font-family:Menlo,'DejaVu Sans Mono',consolas,'Courier New',monospace\"><span style=\"font-weight: bold\">Model: \"sequential_3\"</span>\n",
       "</pre>\n"
      ],
      "text/plain": [
       "\u001b[1mModel: \"sequential_3\"\u001b[0m\n"
      ]
     },
     "metadata": {},
     "output_type": "display_data"
    },
    {
     "data": {
      "text/html": [
       "<pre style=\"white-space:pre;overflow-x:auto;line-height:normal;font-family:Menlo,'DejaVu Sans Mono',consolas,'Courier New',monospace\">┏━━━━━━━━━━━━━━━━━━━━━━━━━━━━━━━━━┳━━━━━━━━━━━━━━━━━━━━━━━━┳━━━━━━━━━━━━━━━┓\n",
       "┃<span style=\"font-weight: bold\"> Layer (type)                    </span>┃<span style=\"font-weight: bold\"> Output Shape           </span>┃<span style=\"font-weight: bold\">       Param # </span>┃\n",
       "┡━━━━━━━━━━━━━━━━━━━━━━━━━━━━━━━━━╇━━━━━━━━━━━━━━━━━━━━━━━━╇━━━━━━━━━━━━━━━┩\n",
       "│ conv2d_10 (<span style=\"color: #0087ff; text-decoration-color: #0087ff\">Conv2D</span>)              │ (<span style=\"color: #00d7ff; text-decoration-color: #00d7ff\">None</span>, <span style=\"color: #00af00; text-decoration-color: #00af00\">30</span>, <span style=\"color: #00af00; text-decoration-color: #00af00\">30</span>, <span style=\"color: #00af00; text-decoration-color: #00af00\">32</span>)     │           <span style=\"color: #00af00; text-decoration-color: #00af00\">896</span> │\n",
       "├─────────────────────────────────┼────────────────────────┼───────────────┤\n",
       "│ batch_normalization_10          │ (<span style=\"color: #00d7ff; text-decoration-color: #00d7ff\">None</span>, <span style=\"color: #00af00; text-decoration-color: #00af00\">30</span>, <span style=\"color: #00af00; text-decoration-color: #00af00\">30</span>, <span style=\"color: #00af00; text-decoration-color: #00af00\">32</span>)     │           <span style=\"color: #00af00; text-decoration-color: #00af00\">128</span> │\n",
       "│ (<span style=\"color: #0087ff; text-decoration-color: #0087ff\">BatchNormalization</span>)            │                        │               │\n",
       "├─────────────────────────────────┼────────────────────────┼───────────────┤\n",
       "│ max_pooling2d_10 (<span style=\"color: #0087ff; text-decoration-color: #0087ff\">MaxPooling2D</span>) │ (<span style=\"color: #00d7ff; text-decoration-color: #00d7ff\">None</span>, <span style=\"color: #00af00; text-decoration-color: #00af00\">15</span>, <span style=\"color: #00af00; text-decoration-color: #00af00\">15</span>, <span style=\"color: #00af00; text-decoration-color: #00af00\">32</span>)     │             <span style=\"color: #00af00; text-decoration-color: #00af00\">0</span> │\n",
       "├─────────────────────────────────┼────────────────────────┼───────────────┤\n",
       "│ conv2d_11 (<span style=\"color: #0087ff; text-decoration-color: #0087ff\">Conv2D</span>)              │ (<span style=\"color: #00d7ff; text-decoration-color: #00d7ff\">None</span>, <span style=\"color: #00af00; text-decoration-color: #00af00\">13</span>, <span style=\"color: #00af00; text-decoration-color: #00af00\">13</span>, <span style=\"color: #00af00; text-decoration-color: #00af00\">64</span>)     │        <span style=\"color: #00af00; text-decoration-color: #00af00\">18,496</span> │\n",
       "├─────────────────────────────────┼────────────────────────┼───────────────┤\n",
       "│ batch_normalization_11          │ (<span style=\"color: #00d7ff; text-decoration-color: #00d7ff\">None</span>, <span style=\"color: #00af00; text-decoration-color: #00af00\">13</span>, <span style=\"color: #00af00; text-decoration-color: #00af00\">13</span>, <span style=\"color: #00af00; text-decoration-color: #00af00\">64</span>)     │           <span style=\"color: #00af00; text-decoration-color: #00af00\">256</span> │\n",
       "│ (<span style=\"color: #0087ff; text-decoration-color: #0087ff\">BatchNormalization</span>)            │                        │               │\n",
       "├─────────────────────────────────┼────────────────────────┼───────────────┤\n",
       "│ max_pooling2d_11 (<span style=\"color: #0087ff; text-decoration-color: #0087ff\">MaxPooling2D</span>) │ (<span style=\"color: #00d7ff; text-decoration-color: #00d7ff\">None</span>, <span style=\"color: #00af00; text-decoration-color: #00af00\">6</span>, <span style=\"color: #00af00; text-decoration-color: #00af00\">6</span>, <span style=\"color: #00af00; text-decoration-color: #00af00\">64</span>)       │             <span style=\"color: #00af00; text-decoration-color: #00af00\">0</span> │\n",
       "├─────────────────────────────────┼────────────────────────┼───────────────┤\n",
       "│ conv2d_12 (<span style=\"color: #0087ff; text-decoration-color: #0087ff\">Conv2D</span>)              │ (<span style=\"color: #00d7ff; text-decoration-color: #00d7ff\">None</span>, <span style=\"color: #00af00; text-decoration-color: #00af00\">4</span>, <span style=\"color: #00af00; text-decoration-color: #00af00\">4</span>, <span style=\"color: #00af00; text-decoration-color: #00af00\">128</span>)      │        <span style=\"color: #00af00; text-decoration-color: #00af00\">73,856</span> │\n",
       "├─────────────────────────────────┼────────────────────────┼───────────────┤\n",
       "│ batch_normalization_12          │ (<span style=\"color: #00d7ff; text-decoration-color: #00d7ff\">None</span>, <span style=\"color: #00af00; text-decoration-color: #00af00\">4</span>, <span style=\"color: #00af00; text-decoration-color: #00af00\">4</span>, <span style=\"color: #00af00; text-decoration-color: #00af00\">128</span>)      │           <span style=\"color: #00af00; text-decoration-color: #00af00\">512</span> │\n",
       "│ (<span style=\"color: #0087ff; text-decoration-color: #0087ff\">BatchNormalization</span>)            │                        │               │\n",
       "├─────────────────────────────────┼────────────────────────┼───────────────┤\n",
       "│ max_pooling2d_12 (<span style=\"color: #0087ff; text-decoration-color: #0087ff\">MaxPooling2D</span>) │ (<span style=\"color: #00d7ff; text-decoration-color: #00d7ff\">None</span>, <span style=\"color: #00af00; text-decoration-color: #00af00\">2</span>, <span style=\"color: #00af00; text-decoration-color: #00af00\">2</span>, <span style=\"color: #00af00; text-decoration-color: #00af00\">128</span>)      │             <span style=\"color: #00af00; text-decoration-color: #00af00\">0</span> │\n",
       "├─────────────────────────────────┼────────────────────────┼───────────────┤\n",
       "│ flatten_3 (<span style=\"color: #0087ff; text-decoration-color: #0087ff\">Flatten</span>)             │ (<span style=\"color: #00d7ff; text-decoration-color: #00d7ff\">None</span>, <span style=\"color: #00af00; text-decoration-color: #00af00\">512</span>)            │             <span style=\"color: #00af00; text-decoration-color: #00af00\">0</span> │\n",
       "├─────────────────────────────────┼────────────────────────┼───────────────┤\n",
       "│ dense_9 (<span style=\"color: #0087ff; text-decoration-color: #0087ff\">Dense</span>)                 │ (<span style=\"color: #00d7ff; text-decoration-color: #00d7ff\">None</span>, <span style=\"color: #00af00; text-decoration-color: #00af00\">128</span>)            │        <span style=\"color: #00af00; text-decoration-color: #00af00\">65,664</span> │\n",
       "├─────────────────────────────────┼────────────────────────┼───────────────┤\n",
       "│ dropout_6 (<span style=\"color: #0087ff; text-decoration-color: #0087ff\">Dropout</span>)             │ (<span style=\"color: #00d7ff; text-decoration-color: #00d7ff\">None</span>, <span style=\"color: #00af00; text-decoration-color: #00af00\">128</span>)            │             <span style=\"color: #00af00; text-decoration-color: #00af00\">0</span> │\n",
       "├─────────────────────────────────┼────────────────────────┼───────────────┤\n",
       "│ dense_10 (<span style=\"color: #0087ff; text-decoration-color: #0087ff\">Dense</span>)                │ (<span style=\"color: #00d7ff; text-decoration-color: #00d7ff\">None</span>, <span style=\"color: #00af00; text-decoration-color: #00af00\">64</span>)             │         <span style=\"color: #00af00; text-decoration-color: #00af00\">8,256</span> │\n",
       "├─────────────────────────────────┼────────────────────────┼───────────────┤\n",
       "│ dropout_7 (<span style=\"color: #0087ff; text-decoration-color: #0087ff\">Dropout</span>)             │ (<span style=\"color: #00d7ff; text-decoration-color: #00d7ff\">None</span>, <span style=\"color: #00af00; text-decoration-color: #00af00\">64</span>)             │             <span style=\"color: #00af00; text-decoration-color: #00af00\">0</span> │\n",
       "├─────────────────────────────────┼────────────────────────┼───────────────┤\n",
       "│ dense_11 (<span style=\"color: #0087ff; text-decoration-color: #0087ff\">Dense</span>)                │ (<span style=\"color: #00d7ff; text-decoration-color: #00d7ff\">None</span>, <span style=\"color: #00af00; text-decoration-color: #00af00\">1</span>)              │            <span style=\"color: #00af00; text-decoration-color: #00af00\">65</span> │\n",
       "└─────────────────────────────────┴────────────────────────┴───────────────┘\n",
       "</pre>\n"
      ],
      "text/plain": [
       "┏━━━━━━━━━━━━━━━━━━━━━━━━━━━━━━━━━┳━━━━━━━━━━━━━━━━━━━━━━━━┳━━━━━━━━━━━━━━━┓\n",
       "┃\u001b[1m \u001b[0m\u001b[1mLayer (type)                   \u001b[0m\u001b[1m \u001b[0m┃\u001b[1m \u001b[0m\u001b[1mOutput Shape          \u001b[0m\u001b[1m \u001b[0m┃\u001b[1m \u001b[0m\u001b[1m      Param #\u001b[0m\u001b[1m \u001b[0m┃\n",
       "┡━━━━━━━━━━━━━━━━━━━━━━━━━━━━━━━━━╇━━━━━━━━━━━━━━━━━━━━━━━━╇━━━━━━━━━━━━━━━┩\n",
       "│ conv2d_10 (\u001b[38;5;33mConv2D\u001b[0m)              │ (\u001b[38;5;45mNone\u001b[0m, \u001b[38;5;34m30\u001b[0m, \u001b[38;5;34m30\u001b[0m, \u001b[38;5;34m32\u001b[0m)     │           \u001b[38;5;34m896\u001b[0m │\n",
       "├─────────────────────────────────┼────────────────────────┼───────────────┤\n",
       "│ batch_normalization_10          │ (\u001b[38;5;45mNone\u001b[0m, \u001b[38;5;34m30\u001b[0m, \u001b[38;5;34m30\u001b[0m, \u001b[38;5;34m32\u001b[0m)     │           \u001b[38;5;34m128\u001b[0m │\n",
       "│ (\u001b[38;5;33mBatchNormalization\u001b[0m)            │                        │               │\n",
       "├─────────────────────────────────┼────────────────────────┼───────────────┤\n",
       "│ max_pooling2d_10 (\u001b[38;5;33mMaxPooling2D\u001b[0m) │ (\u001b[38;5;45mNone\u001b[0m, \u001b[38;5;34m15\u001b[0m, \u001b[38;5;34m15\u001b[0m, \u001b[38;5;34m32\u001b[0m)     │             \u001b[38;5;34m0\u001b[0m │\n",
       "├─────────────────────────────────┼────────────────────────┼───────────────┤\n",
       "│ conv2d_11 (\u001b[38;5;33mConv2D\u001b[0m)              │ (\u001b[38;5;45mNone\u001b[0m, \u001b[38;5;34m13\u001b[0m, \u001b[38;5;34m13\u001b[0m, \u001b[38;5;34m64\u001b[0m)     │        \u001b[38;5;34m18,496\u001b[0m │\n",
       "├─────────────────────────────────┼────────────────────────┼───────────────┤\n",
       "│ batch_normalization_11          │ (\u001b[38;5;45mNone\u001b[0m, \u001b[38;5;34m13\u001b[0m, \u001b[38;5;34m13\u001b[0m, \u001b[38;5;34m64\u001b[0m)     │           \u001b[38;5;34m256\u001b[0m │\n",
       "│ (\u001b[38;5;33mBatchNormalization\u001b[0m)            │                        │               │\n",
       "├─────────────────────────────────┼────────────────────────┼───────────────┤\n",
       "│ max_pooling2d_11 (\u001b[38;5;33mMaxPooling2D\u001b[0m) │ (\u001b[38;5;45mNone\u001b[0m, \u001b[38;5;34m6\u001b[0m, \u001b[38;5;34m6\u001b[0m, \u001b[38;5;34m64\u001b[0m)       │             \u001b[38;5;34m0\u001b[0m │\n",
       "├─────────────────────────────────┼────────────────────────┼───────────────┤\n",
       "│ conv2d_12 (\u001b[38;5;33mConv2D\u001b[0m)              │ (\u001b[38;5;45mNone\u001b[0m, \u001b[38;5;34m4\u001b[0m, \u001b[38;5;34m4\u001b[0m, \u001b[38;5;34m128\u001b[0m)      │        \u001b[38;5;34m73,856\u001b[0m │\n",
       "├─────────────────────────────────┼────────────────────────┼───────────────┤\n",
       "│ batch_normalization_12          │ (\u001b[38;5;45mNone\u001b[0m, \u001b[38;5;34m4\u001b[0m, \u001b[38;5;34m4\u001b[0m, \u001b[38;5;34m128\u001b[0m)      │           \u001b[38;5;34m512\u001b[0m │\n",
       "│ (\u001b[38;5;33mBatchNormalization\u001b[0m)            │                        │               │\n",
       "├─────────────────────────────────┼────────────────────────┼───────────────┤\n",
       "│ max_pooling2d_12 (\u001b[38;5;33mMaxPooling2D\u001b[0m) │ (\u001b[38;5;45mNone\u001b[0m, \u001b[38;5;34m2\u001b[0m, \u001b[38;5;34m2\u001b[0m, \u001b[38;5;34m128\u001b[0m)      │             \u001b[38;5;34m0\u001b[0m │\n",
       "├─────────────────────────────────┼────────────────────────┼───────────────┤\n",
       "│ flatten_3 (\u001b[38;5;33mFlatten\u001b[0m)             │ (\u001b[38;5;45mNone\u001b[0m, \u001b[38;5;34m512\u001b[0m)            │             \u001b[38;5;34m0\u001b[0m │\n",
       "├─────────────────────────────────┼────────────────────────┼───────────────┤\n",
       "│ dense_9 (\u001b[38;5;33mDense\u001b[0m)                 │ (\u001b[38;5;45mNone\u001b[0m, \u001b[38;5;34m128\u001b[0m)            │        \u001b[38;5;34m65,664\u001b[0m │\n",
       "├─────────────────────────────────┼────────────────────────┼───────────────┤\n",
       "│ dropout_6 (\u001b[38;5;33mDropout\u001b[0m)             │ (\u001b[38;5;45mNone\u001b[0m, \u001b[38;5;34m128\u001b[0m)            │             \u001b[38;5;34m0\u001b[0m │\n",
       "├─────────────────────────────────┼────────────────────────┼───────────────┤\n",
       "│ dense_10 (\u001b[38;5;33mDense\u001b[0m)                │ (\u001b[38;5;45mNone\u001b[0m, \u001b[38;5;34m64\u001b[0m)             │         \u001b[38;5;34m8,256\u001b[0m │\n",
       "├─────────────────────────────────┼────────────────────────┼───────────────┤\n",
       "│ dropout_7 (\u001b[38;5;33mDropout\u001b[0m)             │ (\u001b[38;5;45mNone\u001b[0m, \u001b[38;5;34m64\u001b[0m)             │             \u001b[38;5;34m0\u001b[0m │\n",
       "├─────────────────────────────────┼────────────────────────┼───────────────┤\n",
       "│ dense_11 (\u001b[38;5;33mDense\u001b[0m)                │ (\u001b[38;5;45mNone\u001b[0m, \u001b[38;5;34m1\u001b[0m)              │            \u001b[38;5;34m65\u001b[0m │\n",
       "└─────────────────────────────────┴────────────────────────┴───────────────┘\n"
      ]
     },
     "metadata": {},
     "output_type": "display_data"
    },
    {
     "data": {
      "text/html": [
       "<pre style=\"white-space:pre;overflow-x:auto;line-height:normal;font-family:Menlo,'DejaVu Sans Mono',consolas,'Courier New',monospace\"><span style=\"font-weight: bold\"> Total params: </span><span style=\"color: #00af00; text-decoration-color: #00af00\">168,129</span> (656.75 KB)\n",
       "</pre>\n"
      ],
      "text/plain": [
       "\u001b[1m Total params: \u001b[0m\u001b[38;5;34m168,129\u001b[0m (656.75 KB)\n"
      ]
     },
     "metadata": {},
     "output_type": "display_data"
    },
    {
     "data": {
      "text/html": [
       "<pre style=\"white-space:pre;overflow-x:auto;line-height:normal;font-family:Menlo,'DejaVu Sans Mono',consolas,'Courier New',monospace\"><span style=\"font-weight: bold\"> Trainable params: </span><span style=\"color: #00af00; text-decoration-color: #00af00\">167,681</span> (655.00 KB)\n",
       "</pre>\n"
      ],
      "text/plain": [
       "\u001b[1m Trainable params: \u001b[0m\u001b[38;5;34m167,681\u001b[0m (655.00 KB)\n"
      ]
     },
     "metadata": {},
     "output_type": "display_data"
    },
    {
     "data": {
      "text/html": [
       "<pre style=\"white-space:pre;overflow-x:auto;line-height:normal;font-family:Menlo,'DejaVu Sans Mono',consolas,'Courier New',monospace\"><span style=\"font-weight: bold\"> Non-trainable params: </span><span style=\"color: #00af00; text-decoration-color: #00af00\">448</span> (1.75 KB)\n",
       "</pre>\n"
      ],
      "text/plain": [
       "\u001b[1m Non-trainable params: \u001b[0m\u001b[38;5;34m448\u001b[0m (1.75 KB)\n"
      ]
     },
     "metadata": {},
     "output_type": "display_data"
    }
   ],
   "source": [
    "import tensorflow as tf\n",
    "from tensorflow.keras.models import Sequential\n",
    "from tensorflow.keras.layers import Conv2D, MaxPooling2D, Flatten, Dense, Dropout, BatchNormalization\n",
    "from tensorflow.keras.optimizers import Adam\n",
    "\n",
    "model = Sequential([\n",
    "    Conv2D(32, (3,3), activation='relu', input_shape=(32, 32, 3)),\n",
    "    BatchNormalization(),\n",
    "    MaxPooling2D(pool_size=(2,2)),\n",
    "\n",
    "    Conv2D(64, (3,3), activation='relu'),\n",
    "    BatchNormalization(),\n",
    "    MaxPooling2D(pool_size=(2,2)),\n",
    "\n",
    "    Conv2D(128, (3,3), activation='relu'),\n",
    "    BatchNormalization(),\n",
    "    MaxPooling2D(pool_size=(2,2)),\n",
    "\n",
    "\n",
    "    Flatten(),\n",
    "    Dense(128, activation='relu'),\n",
    "    Dropout(0.4),  # Reduced dropout\n",
    "    Dense(64, activation='relu'),\n",
    "    Dropout(0.4),  \n",
    "    \n",
    "    Dense(1, activation='sigmoid') \n",
    "])\n",
    "\n",
    "# Reduce learning rate\n",
    "optimizer = Adam(learning_rate=0.0005)\n",
    "\n",
    "model.compile(optimizer=optimizer,\n",
    "              loss='binary_crossentropy',\n",
    "              metrics=['accuracy'])\n",
    "\n",
    "model.summary()\n"
   ]
  },
  {
   "cell_type": "code",
   "execution_count": 35,
   "metadata": {},
   "outputs": [
    {
     "name": "stdout",
     "output_type": "stream",
     "text": [
      "Training Set Shape: (24728, 32, 32, 3) Training Labels Shape: (24728,)\n",
      "Testing Set Shape: (982, 32, 32, 3) Testing Labels Shape: (982,)\n"
     ]
    }
   ],
   "source": [
    "import numpy as np\n",
    "\n",
    "def convert_dic_to_numpy(preprocessed_dic):\n",
    "    X = []\n",
    "    y = []\n",
    "    \n",
    "    for label, images in preprocessed_dic.items():\n",
    "        X.extend(images)  # Append images\n",
    "        y.extend([0 if label == \"NORMAL\" else 1] * len(images))  # Assign labels\n",
    "    \n",
    "    return np.array(X), np.array(y)\n",
    "\n",
    "# Convert train and test datasets\n",
    "X_train, y_train = convert_dic_to_numpy(preprocessed_dic)\n",
    "X_test, y_test = convert_dic_to_numpy(preprocessed_test_dic)\n",
    "\n",
    "print(\"Training Set Shape:\", X_train.shape, \"Training Labels Shape:\", y_train.shape)\n",
    "print(\"Testing Set Shape:\", X_test.shape, \"Testing Labels Shape:\", y_test.shape)\n"
   ]
  },
  {
   "cell_type": "code",
   "execution_count": 36,
   "metadata": {},
   "outputs": [
    {
     "name": "stdout",
     "output_type": "stream",
     "text": [
      "Balanced X_train shape: (23606, 32, 32, 3)\n",
      "Balanced y_train shape: (23606,)\n"
     ]
    }
   ],
   "source": [
    "import numpy as np\n",
    "from sklearn.utils import shuffle\n",
    "\n",
    "def balance_classes(preprocessed_dic):\n",
    "    normal_images = preprocessed_dic['NORMAL']\n",
    "    tb_images = preprocessed_dic['TUBERCULOSIS']\n",
    "\n",
    "    # Find the minimum number of samples between both classes\n",
    "    min_samples = min(len(normal_images), len(tb_images))\n",
    "\n",
    "    # Select `min_samples` images from each class\n",
    "    normal_balanced = normal_images[:min_samples]\n",
    "    tb_balanced = tb_images[:min_samples]\n",
    "\n",
    "    # Combine them into a single dataset\n",
    "    X_balanced = np.vstack((normal_balanced, tb_balanced))\n",
    "    y_balanced = np.hstack((np.zeros(min_samples), np.ones(min_samples)))  # 0 for NORMAL, 1 for TUBERCULOSIS\n",
    "\n",
    "    # Shuffle the dataset\n",
    "    X_balanced, y_balanced = shuffle(X_balanced, y_balanced, random_state=42)\n",
    "\n",
    "    return X_balanced, y_balanced\n",
    "\n",
    "# Convert dictionary to balanced numpy arrays\n",
    "X_train, y_train = balance_classes(preprocessed_dic)\n",
    "\n",
    "# Print final dataset shape\n",
    "print(f\"Balanced X_train shape: {X_train.shape}\")\n",
    "print(f\"Balanced y_train shape: {y_train.shape}\")\n"
   ]
  },
  {
   "cell_type": "code",
   "execution_count": 37,
   "metadata": {},
   "outputs": [
    {
     "name": "stdout",
     "output_type": "stream",
     "text": [
      "X_train shape: (23606, 32, 32, 3)\n",
      "y_train shape: (23606,)\n",
      "X_test shape: (982, 32, 32, 3)\n",
      "y_test shape: (982,)\n"
     ]
    }
   ],
   "source": [
    "print(\"X_train shape:\", X_train.shape)  # Should be (num_samples, 32, 32, 3)\n",
    "print(\"y_train shape:\", y_train.shape)  # Should be (num_samples,)\n",
    "print(\"X_test shape:\", X_test.shape)    # Should be (num_samples, 32, 32, 3)\n",
    "print(\"y_test shape:\", y_test.shape)    # Should be (num_samples,)\n"
   ]
  },
  {
   "cell_type": "code",
   "execution_count": 38,
   "metadata": {},
   "outputs": [
    {
     "name": "stdout",
     "output_type": "stream",
     "text": [
      "Epoch 1/20\n",
      "\u001b[1m738/738\u001b[0m \u001b[32m━━━━━━━━━━━━━━━━━━━━\u001b[0m\u001b[37m\u001b[0m \u001b[1m29s\u001b[0m 34ms/step - accuracy: 0.8133 - loss: 0.4132 - val_accuracy: 0.8707 - val_loss: 0.2687\n",
      "Epoch 2/20\n",
      "\u001b[1m738/738\u001b[0m \u001b[32m━━━━━━━━━━━━━━━━━━━━\u001b[0m\u001b[37m\u001b[0m \u001b[1m23s\u001b[0m 32ms/step - accuracy: 0.9174 - loss: 0.1864 - val_accuracy: 0.6843 - val_loss: 0.7283\n",
      "Epoch 3/20\n",
      "\u001b[1m738/738\u001b[0m \u001b[32m━━━━━━━━━━━━━━━━━━━━\u001b[0m\u001b[37m\u001b[0m \u001b[1m24s\u001b[0m 33ms/step - accuracy: 0.9272 - loss: 0.1567 - val_accuracy: 0.8523 - val_loss: 0.2746\n",
      "Epoch 4/20\n",
      "\u001b[1m738/738\u001b[0m \u001b[32m━━━━━━━━━━━━━━━━━━━━\u001b[0m\u001b[37m\u001b[0m \u001b[1m25s\u001b[0m 34ms/step - accuracy: 0.9371 - loss: 0.1427 - val_accuracy: 0.5682 - val_loss: 2.4069\n",
      "Epoch 5/20\n",
      "\u001b[1m738/738\u001b[0m \u001b[32m━━━━━━━━━━━━━━━━━━━━\u001b[0m\u001b[37m\u001b[0m \u001b[1m25s\u001b[0m 33ms/step - accuracy: 0.9438 - loss: 0.1219 - val_accuracy: 0.9318 - val_loss: 0.1569\n",
      "Epoch 6/20\n",
      "\u001b[1m738/738\u001b[0m \u001b[32m━━━━━━━━━━━━━━━━━━━━\u001b[0m\u001b[37m\u001b[0m \u001b[1m25s\u001b[0m 33ms/step - accuracy: 0.9483 - loss: 0.1109 - val_accuracy: 0.9145 - val_loss: 0.1830\n",
      "Epoch 7/20\n",
      "\u001b[1m738/738\u001b[0m \u001b[32m━━━━━━━━━━━━━━━━━━━━\u001b[0m\u001b[37m\u001b[0m \u001b[1m25s\u001b[0m 34ms/step - accuracy: 0.9533 - loss: 0.1030 - val_accuracy: 0.6660 - val_loss: 0.7914\n",
      "Epoch 8/20\n",
      "\u001b[1m738/738\u001b[0m \u001b[32m━━━━━━━━━━━━━━━━━━━━\u001b[0m\u001b[37m\u001b[0m \u001b[1m25s\u001b[0m 34ms/step - accuracy: 0.9534 - loss: 0.1007 - val_accuracy: 0.9236 - val_loss: 0.1731\n",
      "Epoch 9/20\n",
      "\u001b[1m738/738\u001b[0m \u001b[32m━━━━━━━━━━━━━━━━━━━━\u001b[0m\u001b[37m\u001b[0m \u001b[1m25s\u001b[0m 33ms/step - accuracy: 0.9591 - loss: 0.0887 - val_accuracy: 0.6171 - val_loss: 1.5685\n",
      "Epoch 10/20\n",
      "\u001b[1m738/738\u001b[0m \u001b[32m━━━━━━━━━━━━━━━━━━━━\u001b[0m\u001b[37m\u001b[0m \u001b[1m25s\u001b[0m 33ms/step - accuracy: 0.9603 - loss: 0.0882 - val_accuracy: 0.8401 - val_loss: 0.3746\n",
      "Epoch 11/20\n",
      "\u001b[1m738/738\u001b[0m \u001b[32m━━━━━━━━━━━━━━━━━━━━\u001b[0m\u001b[37m\u001b[0m \u001b[1m25s\u001b[0m 34ms/step - accuracy: 0.9648 - loss: 0.0769 - val_accuracy: 0.9389 - val_loss: 0.1749\n",
      "Epoch 12/20\n",
      "\u001b[1m738/738\u001b[0m \u001b[32m━━━━━━━━━━━━━━━━━━━━\u001b[0m\u001b[37m\u001b[0m \u001b[1m25s\u001b[0m 33ms/step - accuracy: 0.9662 - loss: 0.0753 - val_accuracy: 0.9124 - val_loss: 0.1941\n",
      "Epoch 13/20\n",
      "\u001b[1m738/738\u001b[0m \u001b[32m━━━━━━━━━━━━━━━━━━━━\u001b[0m\u001b[37m\u001b[0m \u001b[1m25s\u001b[0m 33ms/step - accuracy: 0.9693 - loss: 0.0682 - val_accuracy: 0.9379 - val_loss: 0.1742\n",
      "Epoch 14/20\n",
      "\u001b[1m738/738\u001b[0m \u001b[32m━━━━━━━━━━━━━━━━━━━━\u001b[0m\u001b[37m\u001b[0m \u001b[1m25s\u001b[0m 33ms/step - accuracy: 0.9711 - loss: 0.0661 - val_accuracy: 0.8951 - val_loss: 0.3212\n",
      "Epoch 15/20\n",
      "\u001b[1m738/738\u001b[0m \u001b[32m━━━━━━━━━━━━━━━━━━━━\u001b[0m\u001b[37m\u001b[0m \u001b[1m24s\u001b[0m 33ms/step - accuracy: 0.9746 - loss: 0.0609 - val_accuracy: 0.9318 - val_loss: 0.1803\n",
      "Epoch 16/20\n",
      "\u001b[1m738/738\u001b[0m \u001b[32m━━━━━━━━━━━━━━━━━━━━\u001b[0m\u001b[37m\u001b[0m \u001b[1m24s\u001b[0m 33ms/step - accuracy: 0.9765 - loss: 0.0583 - val_accuracy: 0.9216 - val_loss: 0.2382\n",
      "Epoch 17/20\n",
      "\u001b[1m738/738\u001b[0m \u001b[32m━━━━━━━━━━━━━━━━━━━━\u001b[0m\u001b[37m\u001b[0m \u001b[1m24s\u001b[0m 32ms/step - accuracy: 0.9752 - loss: 0.0573 - val_accuracy: 0.9216 - val_loss: 0.2585\n",
      "Epoch 18/20\n",
      "\u001b[1m738/738\u001b[0m \u001b[32m━━━━━━━━━━━━━━━━━━━━\u001b[0m\u001b[37m\u001b[0m \u001b[1m24s\u001b[0m 32ms/step - accuracy: 0.9781 - loss: 0.0486 - val_accuracy: 0.5764 - val_loss: 4.1475\n",
      "Epoch 19/20\n",
      "\u001b[1m738/738\u001b[0m \u001b[32m━━━━━━━━━━━━━━━━━━━━\u001b[0m\u001b[37m\u001b[0m \u001b[1m24s\u001b[0m 33ms/step - accuracy: 0.9785 - loss: 0.0489 - val_accuracy: 0.9287 - val_loss: 0.2268\n",
      "Epoch 20/20\n",
      "\u001b[1m738/738\u001b[0m \u001b[32m━━━━━━━━━━━━━━━━━━━━\u001b[0m\u001b[37m\u001b[0m \u001b[1m24s\u001b[0m 33ms/step - accuracy: 0.9828 - loss: 0.0410 - val_accuracy: 0.9155 - val_loss: 0.2845\n"
     ]
    }
   ],
   "source": [
    "\n",
    "history = model.fit(\n",
    "    X_train, y_train,\n",
    "    validation_data=(X_test, y_test), \n",
    "    epochs=20,  \n",
    "    batch_size=32,  \n",
    "    verbose=1\n",
    ")\n"
   ]
  },
  {
   "cell_type": "code",
   "execution_count": 44,
   "metadata": {},
   "outputs": [
    {
     "name": "stdout",
     "output_type": "stream",
     "text": [
      "\u001b[1m31/31\u001b[0m \u001b[32m━━━━━━━━━━━━━━━━━━━━\u001b[0m\u001b[37m\u001b[0m \u001b[1m0s\u001b[0m 13ms/step - accuracy: 0.9596 - loss: 0.1385\n",
      "Test Accuracy: 0.9155\n"
     ]
    }
   ],
   "source": [
    "# Evaluate on test set\n",
    "test_loss, test_acc = model.evaluate(X_test, y_test)\n",
    "print(f\"Test Accuracy: {test_acc:.4f}\")\n"
   ]
  },
  {
   "cell_type": "code",
   "execution_count": 45,
   "metadata": {},
   "outputs": [
    {
     "name": "stdout",
     "output_type": "stream",
     "text": [
      "\u001b[1m31/31\u001b[0m \u001b[32m━━━━━━━━━━━━━━━━━━━━\u001b[0m\u001b[37m\u001b[0m \u001b[1m0s\u001b[0m 12ms/step\n",
      "Confusion Matrix:\n",
      " [[473  75]\n",
      " [  8 426]]\n"
     ]
    },
    {
     "data": {
      "image/png": "[encoded data removed]",
      "text/plain": [
       "<Figure size 600x400 with 2 Axes>"
      ]
     },
     "metadata": {},
     "output_type": "display_data"
    },
    {
     "name": "stdout",
     "output_type": "stream",
     "text": [
      "Classification Report:\n",
      "               precision    recall  f1-score   support\n",
      "\n",
      "      Normal       0.98      0.86      0.92       548\n",
      "Tuberculosis       0.85      0.98      0.91       434\n",
      "\n",
      "    accuracy                           0.92       982\n",
      "   macro avg       0.92      0.92      0.92       982\n",
      "weighted avg       0.92      0.92      0.92       982\n",
      "\n"
     ]
    }
   ],
   "source": [
    "import numpy as np\n",
    "import matplotlib.pyplot as plt\n",
    "import seaborn as sns\n",
    "from sklearn.metrics import confusion_matrix, classification_report\n",
    "\n",
    "# Get predictions on test set\n",
    "y_pred_probs = model.predict(X_test)  # Get probabilities\n",
    "y_pred = (y_pred_probs > 0.5).astype(int)  # Convert to binary labels\n",
    "\n",
    "# Compute confusion matrix\n",
    "cm = confusion_matrix(y_test, y_pred)\n",
    "\n",
    "# Print confusion matrix\n",
    "print(\"Confusion Matrix:\\n\", cm)\n",
    "\n",
    "# Plot confusion matrix\n",
    "plt.figure(figsize=(6,4))\n",
    "sns.heatmap(cm, annot=True, fmt=\"d\", cmap=\"Blues\", xticklabels=[\"Normal\", \"Tuberculosis\"], yticklabels=[\"Normal\", \"Tuberculosis\"])\n",
    "plt.xlabel(\"Predicted Label\")\n",
    "plt.ylabel(\"True Label\")\n",
    "plt.title(\"Confusion Matrix\")\n",
    "plt.show()\n",
    "\n",
    "\n",
    "# Print classification report for more insights\n",
    "print(\"Classification Report:\\n\", classification_report(y_test, y_pred, target_names=[\"Normal\", \"Tuberculosis\"]))\n"
   ]
  },
  {
   "cell_type": "code",
   "execution_count": 51,
   "metadata": {},
   "outputs": [
    {
     "name": "stdout",
     "output_type": "stream",
     "text": [
      "📂 Processing: /home/sg/Music/TB DATASET/DATASET/val/NORMAL\n",
      "📂 Processing: /home/sg/Music/TB DATASET/DATASET/val/TUBERCULOSIS\n",
      "\n",
      "📊 Validation Dataset Class Distribution: {'NORMAL': 548, 'TUBERCULOSIS': 434}\n"
     ]
    }
   ],
   "source": [
    "import os\n",
    "import cv2\n",
    "import numpy as np\n",
    "from pathlib import Path\n",
    "\n",
    "# Define validation dataset path\n",
    "val_path = \"/home/sg/Music/TB DATASET/DATASET/val\"\n",
    "\n",
    "# Initialize dictionary to store processed images\n",
    "preprocessed_val_dic = {}\n",
    "\n",
    "# Categories in dataset\n",
    "categories = [\"NORMAL\", \"TUBERCULOSIS\"]\n",
    "\n",
    "# Process each category\n",
    "for label in categories:\n",
    "    image_dir = Path(val_path) / label\n",
    "    if not image_dir.exists():\n",
    "        print(f\"❌ Directory not found: {image_dir}\")\n",
    "        continue\n",
    "\n",
    "    # Print path for debugging\n",
    "    print(f\"📂 Processing: {image_dir}\")\n",
    "\n",
    "    # Try different file extensions\n",
    "    image_paths = list(image_dir.glob(\"*.*\"))  # Include all file types\n",
    "\n",
    "    preprocessed_vimages = []\n",
    "    \n",
    "    for image_path in image_paths:\n",
    "        img = cv2.imread(str(image_path))\n",
    "        if img is None:\n",
    "            print(f\"⚠️ Skipping unreadable file: {image_path}\")  # Handle corrupted images\n",
    "            continue\n",
    "            \n",
    "        img = cv2.cvtColor(img, cv2.COLOR_BGR2RGB)\n",
    "        img = cv2.resize(img, (32, 32))\n",
    "        img = img.astype(np.float32) / 255.0  # Normalize\n",
    "\n",
    "        preprocessed_vimages.append(img)\n",
    "    \n",
    "    preprocessed_val_dic[label] = np.array(preprocessed_vimages)\n",
    "\n",
    "# Print count of images per class\n",
    "class_counts = {label: len(images) for label, images in preprocessed_val_dic.items()}\n",
    "print(\"\\n📊 Validation Dataset Class Distribution:\", class_counts)\n"
   ]
  },
  {
   "cell_type": "code",
   "execution_count": 52,
   "metadata": {},
   "outputs": [
    {
     "name": "stdout",
     "output_type": "stream",
     "text": [
      "Class distribution in validation set: {np.int64(0): np.int64(548), np.int64(1): np.int64(434)}\n"
     ]
    }
   ],
   "source": [
    "import numpy as np\n",
    "from sklearn.utils import resample\n",
    "\n",
    "# Convert dictionary to numpy arrays\n",
    "def convert_dic_to_numpy(preprocessed_dic):\n",
    "    X, y = [], []\n",
    "    for label, images in preprocessed_dic.items():\n",
    "        X.extend(images)\n",
    "        y.extend([1 if label == \"TUBERCULOSIS\" else 0] * len(images))  \n",
    "\n",
    "    return np.array(X), np.array(y)\n",
    "\n",
    "# Prepare validation data\n",
    "X_val, y_val = convert_dic_to_numpy(preprocessed_val_dic)\n",
    "\n",
    "# Print class distribution\n",
    "unique, counts = np.unique(y_val, return_counts=True)\n",
    "print(\"Class distribution in validation set:\", dict(zip(unique, counts)))\n"
   ]
  },
  {
   "cell_type": "code",
   "execution_count": 53,
   "metadata": {},
   "outputs": [
    {
     "name": "stdout",
     "output_type": "stream",
     "text": [
      "Balanced class distribution: [434 434]\n"
     ]
    }
   ],
   "source": [
    "# Separate classes\n",
    "normal_X = X_val[y_val == 0]\n",
    "normal_y = y_val[y_val == 0]\n",
    "tb_X = X_val[y_val == 1]\n",
    "tb_y = y_val[y_val == 1]\n",
    "\n",
    "# Undersample NORMAL to match TUBERCULOSIS count (434)\n",
    "normal_X_resampled, normal_y_resampled = resample(normal_X, normal_y, \n",
    "                                                  n_samples=len(tb_X), \n",
    "                                                  random_state=42)\n",
    "\n",
    "# Merge balanced dataset\n",
    "X_val_balanced = np.concatenate((normal_X_resampled, tb_X), axis=0)\n",
    "y_val_balanced = np.concatenate((normal_y_resampled, tb_y), axis=0)\n",
    "\n",
    "# Shuffle dataset\n",
    "indices = np.arange(len(X_val_balanced))\n",
    "np.random.shuffle(indices)\n",
    "X_val_balanced = X_val_balanced[indices]\n",
    "y_val_balanced = y_val_balanced[indices]\n",
    "\n",
    "print(\"Balanced class distribution:\", np.bincount(y_val_balanced))\n"
   ]
  },
  {
   "cell_type": "code",
   "execution_count": 54,
   "metadata": {},
   "outputs": [
    {
     "name": "stdout",
     "output_type": "stream",
     "text": [
      "\u001b[1m28/28\u001b[0m \u001b[32m━━━━━━━━━━━━━━━━━━━━\u001b[0m\u001b[37m\u001b[0m \u001b[1m0s\u001b[0m 14ms/step - accuracy: 0.9270 - loss: 0.2247\n",
      "Validation Accuracy: 0.9228\n",
      "\u001b[1m28/28\u001b[0m \u001b[32m━━━━━━━━━━━━━━━━━━━━\u001b[0m\u001b[37m\u001b[0m \u001b[1m0s\u001b[0m 12ms/step\n",
      "Confusion Matrix:\n",
      " [[372  62]\n",
      " [  5 429]]\n"
     ]
    },
    {
     "data": {
      "image/png": "[encoded data removed]",
      "text/plain": [
       "<Figure size 600x400 with 2 Axes>"
      ]
     },
     "metadata": {},
     "output_type": "display_data"
    },
    {
     "name": "stdout",
     "output_type": "stream",
     "text": [
      "Classification Report:\n",
      "               precision    recall  f1-score   support\n",
      "\n",
      "      Normal       0.99      0.86      0.92       434\n",
      "Tuberculosis       0.87      0.99      0.93       434\n",
      "\n",
      "    accuracy                           0.92       868\n",
      "   macro avg       0.93      0.92      0.92       868\n",
      "weighted avg       0.93      0.92      0.92       868\n",
      "\n"
     ]
    }
   ],
   "source": [
    "import matplotlib.pyplot as plt\n",
    "import seaborn as sns\n",
    "from sklearn.metrics import confusion_matrix, classification_report\n",
    "\n",
    "# Evaluate model\n",
    "val_loss, val_acc = model.evaluate(X_val_balanced, y_val_balanced)\n",
    "print(f\"Validation Accuracy: {val_acc:.4f}\")\n",
    "\n",
    "# Get predictions\n",
    "y_pred_probs = model.predict(X_val_balanced)  \n",
    "y_pred = (y_pred_probs > 0.5).astype(int)  \n",
    "\n",
    "# Compute confusion matrix\n",
    "cm = confusion_matrix(y_val_balanced, y_pred)\n",
    "\n",
    "# Print confusion matrix\n",
    "print(\"Confusion Matrix:\\n\", cm)\n",
    "\n",
    "# Plot confusion matrix\n",
    "plt.figure(figsize=(6,4))\n",
    "sns.heatmap(cm, annot=True, fmt=\"d\", cmap=\"Blues\", \n",
    "            xticklabels=[\"Normal\", \"Tuberculosis\"], \n",
    "            yticklabels=[\"Normal\", \"Tuberculosis\"])\n",
    "plt.xlabel(\"Predicted Label\")\n",
    "plt.ylabel(\"True Label\")\n",
    "plt.title(\"Validation Confusion Matrix\")\n",
    "plt.show()\n",
    "\n",
    "# Print classification report\n",
    "print(\"Classification Report:\\n\", classification_report(y_val_balanced, y_pred, target_names=[\"Normal\", \"Tuberculosis\"]))\n"
   ]
  },
  {
   "cell_type": "code",
   "execution_count": 81,
   "metadata": {},
   "outputs": [
    {
     "name": "stdout",
     "output_type": "stream",
     "text": [
      "\u001b[1m1/1\u001b[0m \u001b[32m━━━━━━━━━━━━━━━━━━━━\u001b[0m\u001b[37m\u001b[0m \u001b[1m0s\u001b[0m 84ms/step\n",
      "🔹 Predicted Class: TUBERCULOSIS\n",
      "🔹 Confidence Score: 1.0000\n"
     ]
    }
   ],
   "source": [
    "import cv2\n",
    "import numpy as np\n",
    "\n",
    "# Define class labels (Assuming 0 = NORMAL, 1 = TUBERCULOSIS)\n",
    "class_labels = [\"NORMAL\", \"TUBERCULOSIS\"]\n",
    "\n",
    "def predict_with_cnn(model, image_path):\n",
    "    \"\"\"\n",
    "    Predicts the class of an image using the CNN model.\n",
    "    \n",
    "    Parameters:\n",
    "        model: Loaded CNN model.\n",
    "        image_path (str): Path to the input image.\n",
    "    \n",
    "    Returns:\n",
    "        None (Prints Prediction Result)\n",
    "    \"\"\"\n",
    "    # ✅ Load the image\n",
    "    img = cv2.imread(image_path)\n",
    "\n",
    "    if img is None:\n",
    "        print(f\"❌ Error: Could not load image at {image_path}. Check if the path is correct.\")\n",
    "        return\n",
    "\n",
    "    # ✅ Convert BGR to RGB (OpenCV loads in BGR format)\n",
    "    img = cv2.cvtColor(img, cv2.COLOR_BGR2RGB)\n",
    "\n",
    "    # ✅ Resize to match CNN input size (32x32)\n",
    "    img = cv2.resize(img, (32, 32))\n",
    "\n",
    "    # ✅ Normalize pixel values (0-1 range)\n",
    "    img = img.astype(np.float32) / 255.0\n",
    "\n",
    "    # ✅ Expand dimensions to match model input shape (1, 32, 32, 3)\n",
    "    img = np.expand_dims(img, axis=0)\n",
    "\n",
    "    # ✅ Predict using CNN model\n",
    "    prediction = model.predict(img)\n",
    "\n",
    "    # ✅ Get the class with the highest probability\n",
    "    predicted_class = 1 if prediction[0][0] > 0.5 else 0\n",
    "\n",
    "    # ✅ Print the result\n",
    "    print(f\"🔹 Predicted Class: {class_labels[predicted_class]}\")\n",
    "    print(f\"🔹 Confidence Score: {prediction[0][0]:.4f}\")\n",
    "\n",
    "# Example usage\n",
    "image_path = \"/home/sg/Music/TB DATASET/DATASET/aug_train_dic/TUBERCULOSIS/aug_0_train_tuberculosis_8.png\"  # Change this to your image path\n",
    "predict_with_cnn(model, image_path)  # Pass your loaded CNN model here\n"
   ]
  },
  {
   "cell_type": "code",
   "execution_count": 82,
   "metadata": {},
   "outputs": [
    {
     "name": "stderr",
     "output_type": "stream",
     "text": [
      "WARNING:absl:You are saving your model as an HDF5 file via `model.save()` or `keras.saving.save_model(model)`. This file format is considered legacy. We recommend using instead the native Keras format, e.g. `model.save('my_model.keras')` or `keras.saving.save_model(model, 'my_model.keras')`. \n"
     ]
    },
    {
     "name": "stdout",
     "output_type": "stream",
     "text": [
      "✅ CNN model saved as cnn.h5\n"
     ]
    }
   ],
   "source": [
    "# Save the trained CNN model\n",
    "model.save(\"cnn.h5\")\n",
    "\n",
    "print(\"✅ CNN model saved as cnn.h5\")\n"
   ]
  },
  {
   "cell_type": "code",
   "execution_count": 83,
   "metadata": {},
   "outputs": [
    {
     "name": "stderr",
     "output_type": "stream",
     "text": [
      "WARNING:absl:Compiled the loaded model, but the compiled metrics have yet to be built. `model.compile_metrics` will be empty until you train or evaluate the model.\n"
     ]
    },
    {
     "name": "stdout",
     "output_type": "stream",
     "text": [
      "✅ CNN model loaded successfully!\n"
     ]
    }
   ],
   "source": [
    "from tensorflow.keras.models import load_model\n",
    "\n",
    "# Load CNN model (choose the correct file extension)\n",
    "cnn_model = load_model(\"cnn.h5\")  # OR use \"cnn.h5\"\n",
    "\n",
    "print(\"✅ CNN model loaded successfully!\")\n"
   ]
  },
  {
   "cell_type": "code",
   "execution_count": null,
   "metadata": {},
   "outputs": [],
   "source": []
  }
 ],
 "metadata": {
  "kernelspec": {
   "display_name": "sai",
   "language": "python",
   "name": "python3"
  },
  "language_info": {
   "codemirror_mode": {
    "name": "ipython",
    "version": 3
   },
   "file_extension": ".py",
   "mimetype": "text/x-python",
   "name": "python",
   "nbconvert_exporter": "python",
   "pygments_lexer": "ipython3",
   "version": "3.12.3"
  }
 },
 "nbformat": 4,
 "nbformat_minor": 2
}
